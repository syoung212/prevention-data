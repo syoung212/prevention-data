{
 "cells": [
  {
   "cell_type": "code",
   "execution_count": null,
   "metadata": {},
   "outputs": [
    {
     "name": "stdout",
     "output_type": "stream",
     "text": [
      "Requirement already satisfied: google-cloud in ./.venv/lib/python3.13/site-packages (0.34.0)\n",
      "Found existing installation: db-dtypes 1.4.2\n",
      "Uninstalling db-dtypes-1.4.2:\n",
      "  Would remove:\n",
      "    /Users/pranavigupta/data_to_decisions/prevention-data/.venv/lib/python3.13/site-packages/db_dtypes-1.4.2.dist-info/*\n",
      "    /Users/pranavigupta/data_to_decisions/prevention-data/.venv/lib/python3.13/site-packages/db_dtypes/*\n",
      "Proceed (Y/n)? ^C\n",
      "Requirement already satisfied: db-dtypes in ./.venv/lib/python3.13/site-packages (1.4.2)\n",
      "Requirement already satisfied: packaging>=17.0 in ./.venv/lib/python3.13/site-packages (from db-dtypes) (24.2)\n",
      "Requirement already satisfied: pandas>=0.24.2 in ./.venv/lib/python3.13/site-packages (from db-dtypes) (2.2.3)\n",
      "Requirement already satisfied: pyarrow>=3.0.0 in ./.venv/lib/python3.13/site-packages (from db-dtypes) (19.0.1)\n",
      "Requirement already satisfied: numpy>=1.16.6 in ./.venv/lib/python3.13/site-packages (from db-dtypes) (2.2.4)\n",
      "Requirement already satisfied: python-dateutil>=2.8.2 in ./.venv/lib/python3.13/site-packages (from pandas>=0.24.2->db-dtypes) (2.9.0.post0)\n",
      "Requirement already satisfied: pytz>=2020.1 in ./.venv/lib/python3.13/site-packages (from pandas>=0.24.2->db-dtypes) (2025.2)\n",
      "Requirement already satisfied: tzdata>=2022.7 in ./.venv/lib/python3.13/site-packages (from pandas>=0.24.2->db-dtypes) (2025.2)\n",
      "Requirement already satisfied: six>=1.5 in ./.venv/lib/python3.13/site-packages (from python-dateutil>=2.8.2->pandas>=0.24.2->db-dtypes) (1.17.0)\n"
     ]
    }
   ],
   "source": [
    "\n",
    "!pip install --upgrade google-cloud\n"
   ]
  },
  {
   "cell_type": "code",
   "execution_count": null,
   "metadata": {},
   "outputs": [
    {
     "name": "stdout",
     "output_type": "stream",
     "text": [
      "Requirement already satisfied: google-cloud-bigquery in ./.venv/lib/python3.13/site-packages (3.31.0)\n",
      "Requirement already satisfied: google-api-core<3.0.0,>=2.11.1 in ./.venv/lib/python3.13/site-packages (from google-api-core[grpc]<3.0.0,>=2.11.1->google-cloud-bigquery) (2.24.2)\n",
      "Requirement already satisfied: google-auth<3.0.0,>=2.14.1 in ./.venv/lib/python3.13/site-packages (from google-cloud-bigquery) (2.38.0)\n",
      "Requirement already satisfied: google-cloud-core<3.0.0,>=2.4.1 in ./.venv/lib/python3.13/site-packages (from google-cloud-bigquery) (2.4.3)\n",
      "Requirement already satisfied: google-resumable-media<3.0.0,>=2.0.0 in ./.venv/lib/python3.13/site-packages (from google-cloud-bigquery) (2.7.2)\n",
      "Requirement already satisfied: packaging>=24.2.0 in ./.venv/lib/python3.13/site-packages (from google-cloud-bigquery) (24.2)\n",
      "Requirement already satisfied: python-dateutil<3.0.0,>=2.8.2 in ./.venv/lib/python3.13/site-packages (from google-cloud-bigquery) (2.9.0.post0)\n",
      "Requirement already satisfied: requests<3.0.0,>=2.21.0 in ./.venv/lib/python3.13/site-packages (from google-cloud-bigquery) (2.32.3)\n",
      "Requirement already satisfied: googleapis-common-protos<2.0.0,>=1.56.2 in ./.venv/lib/python3.13/site-packages (from google-api-core<3.0.0,>=2.11.1->google-api-core[grpc]<3.0.0,>=2.11.1->google-cloud-bigquery) (1.69.2)\n",
      "Requirement already satisfied: protobuf!=3.20.0,!=3.20.1,!=4.21.0,!=4.21.1,!=4.21.2,!=4.21.3,!=4.21.4,!=4.21.5,<7.0.0,>=3.19.5 in ./.venv/lib/python3.13/site-packages (from google-api-core<3.0.0,>=2.11.1->google-api-core[grpc]<3.0.0,>=2.11.1->google-cloud-bigquery) (5.29.4)\n",
      "Requirement already satisfied: proto-plus<2.0.0,>=1.22.3 in ./.venv/lib/python3.13/site-packages (from google-api-core<3.0.0,>=2.11.1->google-api-core[grpc]<3.0.0,>=2.11.1->google-cloud-bigquery) (1.26.1)\n",
      "Requirement already satisfied: grpcio<2.0dev,>=1.33.2 in ./.venv/lib/python3.13/site-packages (from google-api-core[grpc]<3.0.0,>=2.11.1->google-cloud-bigquery) (1.71.0)\n",
      "Requirement already satisfied: grpcio-status<2.0.dev0,>=1.33.2 in ./.venv/lib/python3.13/site-packages (from google-api-core[grpc]<3.0.0,>=2.11.1->google-cloud-bigquery) (1.71.0)\n",
      "Requirement already satisfied: cachetools<6.0,>=2.0.0 in ./.venv/lib/python3.13/site-packages (from google-auth<3.0.0,>=2.14.1->google-cloud-bigquery) (5.5.2)\n",
      "Requirement already satisfied: pyasn1-modules>=0.2.1 in ./.venv/lib/python3.13/site-packages (from google-auth<3.0.0,>=2.14.1->google-cloud-bigquery) (0.4.1)\n",
      "Requirement already satisfied: rsa<5,>=3.1.4 in ./.venv/lib/python3.13/site-packages (from google-auth<3.0.0,>=2.14.1->google-cloud-bigquery) (4.9)\n",
      "Requirement already satisfied: google-crc32c<2.0dev,>=1.0 in ./.venv/lib/python3.13/site-packages (from google-resumable-media<3.0.0,>=2.0.0->google-cloud-bigquery) (1.7.1)\n",
      "Requirement already satisfied: six>=1.5 in ./.venv/lib/python3.13/site-packages (from python-dateutil<3.0.0,>=2.8.2->google-cloud-bigquery) (1.17.0)\n",
      "Requirement already satisfied: charset-normalizer<4,>=2 in ./.venv/lib/python3.13/site-packages (from requests<3.0.0,>=2.21.0->google-cloud-bigquery) (3.4.1)\n",
      "Requirement already satisfied: idna<4,>=2.5 in ./.venv/lib/python3.13/site-packages (from requests<3.0.0,>=2.21.0->google-cloud-bigquery) (3.10)\n",
      "Requirement already satisfied: urllib3<3,>=1.21.1 in ./.venv/lib/python3.13/site-packages (from requests<3.0.0,>=2.21.0->google-cloud-bigquery) (2.3.0)\n",
      "Requirement already satisfied: certifi>=2017.4.17 in ./.venv/lib/python3.13/site-packages (from requests<3.0.0,>=2.21.0->google-cloud-bigquery) (2025.1.31)\n",
      "Requirement already satisfied: pyasn1<0.7.0,>=0.4.6 in ./.venv/lib/python3.13/site-packages (from pyasn1-modules>=0.2.1->google-auth<3.0.0,>=2.14.1->google-cloud-bigquery) (0.6.1)\n",
      "Google Cloud SDK 516.0.0\n",
      "bq 2.1.14\n",
      "core 2025.03.24\n",
      "gcloud-crc32c 1.0.0\n",
      "gsutil 5.33\n",
      "  Credentialed Accounts\n",
      "ACTIVE  ACCOUNT\n",
      "*       pg342@cornell.edu\n",
      "\n",
      "To set the active account, run:\n",
      "    $ gcloud config set account `ACCOUNT`\n",
      "\n"
     ]
    }
   ],
   "source": [
    "!pip install google-cloud-bigquery\n",
    "\n",
    "!gcloud --version"
   ]
  },
  {
   "cell_type": "code",
   "execution_count": 18,
   "metadata": {},
   "outputs": [
    {
     "name": "stdout",
     "output_type": "stream",
     "text": [
      "  Credentialed Accounts\n",
      "ACTIVE  ACCOUNT\n",
      "        pg342@cornell.edu\n",
      "\n",
      "To set the active account, run:\n",
      "    $ gcloud config set account `ACCOUNT`\n",
      "\n",
      "Your browser has been opened to visit:\n",
      "\n",
      "    https://accounts.google.com/o/oauth2/auth?response_type=code&client_id=764086051850-6qr4p6gpi6hn506pt8ejuq83di341hur.apps.googleusercontent.com&redirect_uri=http%3A%2F%2Flocalhost%3A8085%2F&scope=openid+https%3A%2F%2Fwww.googleapis.com%2Fauth%2Fuserinfo.email+https%3A%2F%2Fwww.googleapis.com%2Fauth%2Fcloud-platform+https%3A%2F%2Fwww.googleapis.com%2Fauth%2Fsqlservice.login&state=E5ApfECoazz4gLStkcRYlFtjPsBdax&access_type=offline&code_challenge=iYClFPEl8l_glOF39hWOp2zIVAJdlOMfqMo1kY_df8g&code_challenge_method=S256\n",
      "\n",
      "\n",
      "Credentials saved to file: [/Users/pranavigupta/.config/gcloud/application_default_credentials.json]\n",
      "\n",
      "These credentials will be used by any library that requests Application Default Credentials (ADC).\n",
      "\n",
      "Quota project \"data-project-455021\" was added to ADC which can be used by Google client libraries for billing and quota. Note that some services may still bill the project owning the resource.\n"
     ]
    }
   ],
   "source": [
    "!gcloud auth list\n",
    "!gcloud auth application-default login"
   ]
  },
  {
   "cell_type": "code",
   "execution_count": null,
   "metadata": {},
   "outputs": [
    {
     "name": "stdout",
     "output_type": "stream",
     "text": [
      "mimic3_v1_4\n"
     ]
    },
    {
     "data": {
      "image/png": "[encoded data removed]",
      "text/plain": [
       "<Figure size 800x600 with 1 Axes>"
      ]
     },
     "metadata": {},
     "output_type": "display_data"
    }
   ],
   "source": [
    "from google.cloud import bigquery\n",
    "from google.oauth2 import service_account\n",
    "import pandas as pd\n",
    "import matplotlib.pyplot as plt\n",
    "import db_dtypes as db_dtypes\n",
    "\n",
    "# Construct a BigQuery client object.\n",
    "project_name = \"replace-this-with-your-project-name\"  # Replace with your project name\n",
    "\n",
    "client = bigquery.Client(project=project_name)\n",
    "\n",
    "# List datasets in the specified project\n",
    "datasets = list(client.list_datasets())\n",
    "\n",
    "# Print the dataset names\n",
    "for dataset in datasets:\n",
    "    print(dataset.dataset_id)\n",
    "\n",
    "# TODO(developer): Set table_id to the ID of the destination table.\n",
    "# table_id = \"your-project.your_dataset.your_table_name\"\n",
    "sql = f'SELECT * FROM `{project_name}.mimic3_v1_4.PATIENTS`'\n",
    "query_job = client.query(sql)\n",
    "\n",
    "# df = query_job.to_dataframe()\n",
    "rows = query_job.result()\n",
    "patients_df = pd.DataFrame([dict(row) for row in rows])\n",
    "\n",
    "plt.figure(figsize=(8, 6))\n",
    "patients_df['GENDER'].value_counts().plot(kind='bar', color='skyblue')\n",
    "\n",
    "plt.title('Gender Distribution in MIMIC-III Patient Dataset')\n",
    "plt.xlabel('Gender')\n",
    "plt.ylabel('Count')\n",
    "\n",
    "plt.show()"
   ]
  },
  {
   "cell_type": "code",
   "execution_count": null,
   "metadata": {},
   "outputs": [],
   "source": [
    "\n",
    "patients_df = patients_df.dropna(how='all')\n",
    "admissions_sql = \"SELECT * FROM `{project_name}.mimic3_v1_4.PATIENTS`\"\n",
    "admissions_query_job = client.query(admissions_sql)\n",
    "admissions_rows = admissions_query_job.result()\n",
    "admissions_df = pd.DataFrame([dict(row) for row in admissions_rows])\n",
    "admissions_df = admissions_df.dropna(how='all')"
   ]
  },
  {
   "cell_type": "code",
   "execution_count": 44,
   "metadata": {},
   "outputs": [
    {
     "name": "stdout",
     "output_type": "stream",
     "text": [
      "Requirement already satisfied: bitarray in ./.venv/lib/python3.13/site-packages (3.2.0)\n"
     ]
    }
   ],
   "source": [
    "!pip install bitarray\n",
    "from bitarray import bitarray\n",
    "import hashlib\n",
    "import random\n",
    "import math\n",
    "random.seed(0)\n",
    "\n",
    "class BloomFilter(object):\n",
    "    def __init__(self, size, hash_count):\n",
    "        \"\"\"\n",
    "        size: size of bit array\n",
    "        hash_count: number of hash functions to use\n",
    "        \"\"\"\n",
    "        self.size = size\n",
    "        self.hash_count = hash_count\n",
    "        self.bit_array = bitarray(size)\n",
    "        self.bit_array.setall(0)\n",
    "        self.hash_param = []\n",
    "        i=0\n",
    "        while i<hash_count:\n",
    "            a=random.randint(1,9999)\n",
    "            b=random.randint(1,9999)\n",
    "            p = self.generate_large_prime(30)\n",
    "            self.hash_param.append((a,b,p))\n",
    "            i+=1\n",
    "            \n",
    "    def generate_large_prime(self, bit_size):\n",
    "\n",
    "        random_number = random.getrandbits(bit_size)\n",
    "        \n",
    "        while not self.is_prime(random_number):\n",
    "            random_number = random.getrandbits(bit_size)\n",
    "        return random_number\n",
    "\n",
    "    def is_prime(self, number):\n",
    "        if number % 2 == 0:\n",
    "            return False\n",
    "\n",
    "\n",
    "        for i in range(3, int(math.sqrt(number)) + 1, 2):\n",
    "            if number % i == 0:\n",
    "                return False\n",
    "\n",
    "        return True\n",
    "    def calculate_hash(self,item,hash_params):\n",
    "        item_val = (hash_params[0]*item + hash_params[1])%hash_params[2]\n",
    "        #print (item_val,hash_params[2])\n",
    "        return item_val\n",
    "    \n",
    "    \n",
    "    def add(self, item):\n",
    "        \"\"\"\n",
    "        Add an item to the filter\n",
    "        \"\"\"\n",
    "        for p in self.hash_param:\n",
    "            self.bit_array[self.calculate_hash(item, p)% self.size] = 1\n",
    "        \n",
    "    def lookup(self, item):\n",
    "        \"\"\"\n",
    "        Check for existence of an item in filter\n",
    "        \"\"\"\n",
    "\n",
    "        for p in self.hash_param:\n",
    "            if self.bit_array[self.calculate_hash(item, p)% self.size] == 0:\n",
    "                return False\n",
    "        \n",
    "        return True"
   ]
  },
  {
   "cell_type": "code",
   "execution_count": null,
   "metadata": {},
   "outputs": [
    {
     "name": "stdout",
     "output_type": "stream",
     "text": [
      "Ground Truth DataFrame: 651047\n",
      "   SUBJECT_ID  HADM_ID              DIAGNOSIS  DIAGNOSIS_FLAG  \\\n",
      "0        3369   126808                   None           False   \n",
      "1       74869   123152   ? SEROTONIN SYNDROME            True   \n",
      "2       74869   123152   ? SEROTONIN SYNDROME            True   \n",
      "3       74869   123152   ? SEROTONIN SYNDROME            True   \n",
      "4       74869   123152   ? SEROTONIN SYNDROME            True   \n",
      "\n",
      "   HOSPITAL_EXPIRE_FLAG  \n",
      "0                     1  \n",
      "1                     1  \n",
      "2                     1  \n",
      "3                     1  \n",
      "4                     1  \n"
     ]
    },
    {
     "name": "stderr",
     "output_type": "stream",
     "text": [
      "/var/folders/lj/5mq9mzlx1t58q2x7hr_p8l5c0000gn/T/ipykernel_35220/3315752551.py:26: FutureWarning: A value is trying to be set on a copy of a DataFrame or Series through chained assignment using an inplace method.\n",
      "The behavior will change in pandas 3.0. This inplace method will never work because the intermediate object on which we are setting values always behaves as a copy.\n",
      "\n",
      "For example, when doing 'df[col].method(value, inplace=True)', try using 'df.method({col: value}, inplace=True)' or df[col] = df[col].method(value) instead, to perform the operation inplace on the original object.\n",
      "\n",
      "\n",
      "  ground_truth_df['DIAGNOSIS_FLAG'].fillna(False, inplace=True)\n"
     ]
    }
   ],
   "source": [
    "# SQL query to join the admissions table with the diagnoses table\n",
    "sql = \"\"\"\n",
    "SELECT\n",
    "    a.SUBJECT_ID,\n",
    "    a.HADM_ID,\n",
    "    d.ICD9_CODE\n",
    "FROM\n",
    "    `{project_name}.mimic3_v1_4.PATIENTS` as a\n",
    "JOIN\n",
    "    `{project_name}.mimic3_v1_4.PATIENTS` as d\n",
    "ON\n",
    "    a.subject_id = d.subject_id AND a.hadm_id = d.hadm_id\n",
    "\"\"\"\n",
    "query_job = client.query(sql)\n",
    "rows = query_job.result()\n",
    "\n",
    "diagnoses_df = pd.DataFrame([dict(row) for row in rows])\n",
    "\n",
    "diagnoses_df['DIAGNOSIS_FLAG'] = diagnoses_df['ICD9_CODE'].notnull()\n",
    "\n",
    "# Left join because want to keep all admissions to the hospital, and add false to flag if no diagnosis was given\n",
    "ground_truth_df = pd.merge(admissions_df, diagnoses_df[['SUBJECT_ID', 'HADM_ID', 'DIAGNOSIS_FLAG']], on=['SUBJECT_ID', 'HADM_ID'], how='left')\n",
    "\n",
    "ground_truth_df = ground_truth_df[['SUBJECT_ID', 'HADM_ID', 'DIAGNOSIS', 'DIAGNOSIS_FLAG', 'HOSPITAL_EXPIRE_FLAG']]\n",
    "\n",
    "ground_truth_df['DIAGNOSIS_FLAG'].fillna(False, inplace=True)\n",
    "print(\"Ground Truth DataFrame:\", len(ground_truth_df))\n",
    "print(ground_truth_df.head(5))"
   ]
  },
  {
   "cell_type": "code",
   "execution_count": null,
   "metadata": {},
   "outputs": [],
   "source": [
    "# Initialize the Bloom Filter with size and number of hash functions\n",
    "bloom_filter = BloomFilter(size=100000, hash_count=5)\n",
    "\n",
    "for subject_id in patients_df['SUBJECT_ID']:\n",
    "    bloom_filter.add(subject_id)\n",
    "\n",
    "filtered_admissions_df = admissions_df[admissions_df['SUBJECT_ID'].apply(\n",
    "    lambda x: bloom_filter.lookup(x))]\n",
    "\n",
    "result_df = pd.merge(patients_df, filtered_admissions_df, on='SUBJECT_ID', how='inner')\n",
    "\n",
    "print(\"Patients DataFrame length\", len(patients_df))\n",
    "print(\"Admissions DataFrame length\", len(admissions_df))\n",
    "print(\"Filtered DataFrame length\", len(filtered_admissions_df))\n",
    "print(\"Patient-Admissions DataFrame length\", len(result_df))"
   ]
  },
  {
   "cell_type": "code",
   "execution_count": 45,
   "metadata": {},
   "outputs": [
    {
     "name": "stdout",
     "output_type": "stream",
     "text": [
      "Patients DataFrame length 7593\n",
      "Admissions DataFrame length 58976\n",
      "Filtered DataFrame length 11921\n",
      "Patient-Admissions DataFrame length 11554\n"
     ]
    }
   ],
   "source": [
    "# Initialize the Bloom Filter with size and number of hash functions\n",
    "bloom_filter = BloomFilter(size=100000, hash_count=5)\n",
    "\n",
    "for subject_id in patients_df['SUBJECT_ID']:\n",
    "    bloom_filter.add(subject_id)\n",
    "\n",
    "filtered_admissions_df = admissions_df[admissions_df['SUBJECT_ID'].apply(\n",
    "    lambda x: bloom_filter.lookup(x))]\n",
    "\n",
    "result_df = pd.merge(patients_df, filtered_admissions_df, on='SUBJECT_ID', how='inner')\n",
    "\n",
    "print(\"Patients DataFrame length\", len(patients_df))\n",
    "print(\"Admissions DataFrame length\", len(admissions_df))\n",
    "print(\"Filtered DataFrame length\", len(filtered_admissions_df))\n",
    "print(\"Patient-Admissions DataFrame length\", len(result_df))"
   ]
  },
  {
   "cell_type": "code",
   "execution_count": null,
   "metadata": {},
   "outputs": [
    {
     "name": "stdout",
     "output_type": "stream",
     "text": [
      "Diagnoses DataFrame length 651047\n",
      "Patient-Admissions DataFrame length 11554\n",
      "Filtered Admissions DataFrame length 156331\n",
      "Patient-Admissions-Diagnoses DataFrame length 152279\n"
     ]
    }
   ],
   "source": [
    "diagnoses_sql = \"SELECT * FROM `{project_name}.mimic3_v1_4.PATIENTS`\"\n",
    "diagnoses = client.query(diagnoses_sql)\n",
    "diagnoses_rows = diagnoses.result()\n",
    "diagnoses_icd_df = pd.DataFrame([dict(row) for row in diagnoses_rows])\n",
    "diagnoses_icd_df = diagnoses_icd_df.dropna(how='all')\n",
    "\n",
    "print(\"Diagnoses DataFrame length\", len(diagnoses_icd_df))\n",
    "print(\"Patient-Admissions DataFrame length\", len(result_df))\n",
    "\n",
    "filtered_admissions_df = diagnoses_icd_df[diagnoses_icd_df['SUBJECT_ID'].apply(\n",
    "    lambda x: bloom_filter.lookup(x))]\n",
    "\n",
    "print(\"Filtered Admissions DataFrame length\", len(filtered_admissions_df))\n",
    "result_df = pd.merge(patients_df, diagnoses_icd_df, on='SUBJECT_ID', how='inner')\n",
    "\n",
    "print(\"Patient-Admissions-Diagnoses DataFrame length\", len(result_df))"
   ]
  }
 ],
 "metadata": {
  "kernelspec": {
   "display_name": ".venv",
   "language": "python",
   "name": "python3"
  },
  "language_info": {
   "codemirror_mode": {
    "name": "ipython",
    "version": 3
   },
   "file_extension": ".py",
   "mimetype": "text/x-python",
   "name": "python",
   "nbconvert_exporter": "python",
   "pygments_lexer": "ipython3",
   "version": "3.13.2"
  }
 },
 "nbformat": 4,
 "nbformat_minor": 2
}
